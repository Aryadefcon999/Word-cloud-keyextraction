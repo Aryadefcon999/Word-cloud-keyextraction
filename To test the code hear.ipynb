{
 "cells": [
  {
   "cell_type": "code",
   "execution_count": 2,
   "id": "6dd39099",
   "metadata": {},
   "outputs": [],
   "source": [
    "from monkeylearn import MonkeyLearn\n",
    "from wordcloud import WordCloud\n",
    "import matplotlib.pyplot as plt\n",
    "# from sklearn.feature_extraction.text import CountVectorizer\n",
    "from nltk.tokenize import word_tokenize\n",
    "# from nltk import  FreqDist, ConditionalFreqDist\n",
    "from nltk.corpus import stopwords\n",
    "from textblob import TextBlob\n",
    "ml = MonkeyLearn('540cd9714933be68edc9b16b5e42ed0f279f4ff0')\n"
   ]
  },
  {
   "cell_type": "code",
   "execution_count": null,
   "id": "84f12e9c",
   "metadata": {},
   "outputs": [],
   "source": [
    "#This the text for the demo\n",
    "my_text = input(\"Enter the text:-\\n\") \n",
    "\n",
    "\n",
    "#using the NLTK Method\n",
    "# token = my_text.split()\n",
    "# print(token)\n",
    "print(\"             \")\n",
    "\n",
    "print(\" We calculate the value of the data \",end=\" \")\n",
    "\n",
    "print(\"      \\n      \")\n",
    "\n",
    "#Here is the collect the data inside the data value\n",
    "data = [my_text]\n",
    "#We put the model key world \n",
    "model_id = 'ex_y7BPYzNG'\n",
    "#Extract the dta using the mobel id \n",
    "result = ml.extractors.extract(model_id,data)\n",
    "\n",
    "dataDict = result.body\n",
    "for item in dataDict[0]['extractions'][:10]:\n",
    "    \n",
    "        \n",
    "    print(item['parsed_value'])\n",
    "    print(item['count'])\n",
    "    print(item['relevance'])\n",
    "    \n",
    "    \n",
    "#This is help to count the sentance that which sentace repeted how \n",
    "               \n",
    "               \n",
    "blog = TextBlob(item['parsed_value'])\n",
    "print(blog.word_counts)\n",
    "\n",
    "    \n",
    "# from collections import Counter\n",
    "\n",
    "\n",
    "# filtered = [w for w in my_text if w.isalnum()]\n",
    "# counts = Counter(filtered)\n",
    "# print(counts)    \n",
    "#We use the stopwods \n",
    "# sw = set(stopwords.words('english'))\n",
    "# result = [w for w in word_tokenize(my_text) if w.isalnum()]\n",
    "# print(result)\n",
    "\n",
    "\n",
    "\n",
    "#From visualization we use the world cloud that help to visualiz the data.\n",
    "\n",
    "wordcloud = WordCloud(max_font_size=90,background_color='black',mode='CMYK',).generate(my_text)\n",
    "plt.figure(figsize=(10,15))\n",
    "plt.imshow(wordcloud,interpolation='nearest',interpolation_stage='rgba')\n",
    "plt.axis(\"off\")\n",
    "plt.show()"
   ]
  },
  {
   "cell_type": "code",
   "execution_count": 3,
   "id": "2a3bd54f",
   "metadata": {},
   "outputs": [
    {
     "name": "stderr",
     "output_type": "stream",
     "text": [
      "[nltk_data] Downloading package stopwords to\n",
      "[nltk_data]     C:\\Users\\Asus\\AppData\\Roaming\\nltk_data...\n",
      "[nltk_data]   Package stopwords is already up-to-date!\n"
     ]
    },
    {
     "data": {
      "text/plain": [
       "True"
      ]
     },
     "execution_count": 3,
     "metadata": {},
     "output_type": "execute_result"
    }
   ],
   "source": [
    "import nltk\n",
    "nltk.download(\"stopwords\")"
   ]
  },
  {
   "cell_type": "code",
   "execution_count": 4,
   "id": "275745ef",
   "metadata": {},
   "outputs": [
    {
     "data": {
      "text/plain": [
       "['i', 'me', 'my', 'myself', 'we', 'our', 'ours', 'ourselves', 'you', \"you're\"]"
      ]
     },
     "execution_count": 4,
     "metadata": {},
     "output_type": "execute_result"
    }
   ],
   "source": [
    "stop_words = stopwords.words(\"english\")\n",
    "stop_words[:10]"
   ]
  },
  {
   "cell_type": "code",
   "execution_count": null,
   "id": "2fa2e70c",
   "metadata": {},
   "outputs": [],
   "source": []
  },
  {
   "cell_type": "code",
   "execution_count": null,
   "id": "a0dcc54b",
   "metadata": {},
   "outputs": [],
   "source": []
  },
  {
   "cell_type": "code",
   "execution_count": null,
   "id": "0fd26325",
   "metadata": {},
   "outputs": [],
   "source": []
  },
  {
   "cell_type": "code",
   "execution_count": null,
   "id": "9b7f7e21",
   "metadata": {},
   "outputs": [],
   "source": []
  },
  {
   "cell_type": "code",
   "execution_count": null,
   "id": "ae07ebfa",
   "metadata": {},
   "outputs": [],
   "source": []
  },
  {
   "cell_type": "code",
   "execution_count": null,
   "id": "a7ddb4c9",
   "metadata": {},
   "outputs": [],
   "source": []
  }
 ],
 "metadata": {
  "kernelspec": {
   "display_name": "Python 3 (ipykernel)",
   "language": "python",
   "name": "python3"
  },
  "language_info": {
   "codemirror_mode": {
    "name": "ipython",
    "version": 3
   },
   "file_extension": ".py",
   "mimetype": "text/x-python",
   "name": "python",
   "nbconvert_exporter": "python",
   "pygments_lexer": "ipython3",
   "version": "3.9.12"
  }
 },
 "nbformat": 4,
 "nbformat_minor": 5
}
