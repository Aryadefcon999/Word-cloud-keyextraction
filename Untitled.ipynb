{
 "cells": [
  {
   "cell_type": "code",
   "execution_count": null,
   "id": "3d28fcc3",
   "metadata": {},
   "outputs": [],
   "source": [
    "# pip install opencv-python"
   ]
  },
  {
   "cell_type": "code",
   "execution_count": null,
   "id": "479d8545",
   "metadata": {},
   "outputs": [],
   "source": [
    "# pip install pandas"
   ]
  },
  {
   "cell_type": "code",
   "execution_count": null,
   "id": "3c19ce8c",
   "metadata": {},
   "outputs": [],
   "source": [
    "# pip install pytesseract"
   ]
  },
  {
   "cell_type": "code",
   "execution_count": null,
   "id": "f57438f6",
   "metadata": {},
   "outputs": [],
   "source": [
    "# pip install ghostscript"
   ]
  },
  {
   "cell_type": "code",
   "execution_count": null,
   "id": "0c34dccd",
   "metadata": {},
   "outputs": [],
   "source": [
    "# pip install camelot-py"
   ]
  },
  {
   "cell_type": "code",
   "execution_count": null,
   "id": "4613c38e",
   "metadata": {},
   "outputs": [],
   "source": [
    "import pytesseract"
   ]
  },
  {
   "cell_type": "code",
   "execution_count": null,
   "id": "5befe736",
   "metadata": {},
   "outputs": [],
   "source": [
    "pytesseract.pytesseract.tesseract_cmd=r'C:\\\\Program Files\\\\Tesseract-OCR\\\\tesseract.exe'"
   ]
  },
  {
   "cell_type": "code",
   "execution_count": null,
   "id": "12d432f2",
   "metadata": {},
   "outputs": [],
   "source": [
    "# pip install torch torchvision torchaudio"
   ]
  },
  {
   "cell_type": "code",
   "execution_count": null,
   "id": "1478ae50",
   "metadata": {},
   "outputs": [],
   "source": [
    "# !pip3 install nltk"
   ]
  },
  {
   "cell_type": "code",
   "execution_count": null,
   "id": "85ebfdfa",
   "metadata": {},
   "outputs": [],
   "source": [
    "# !pip3 install wordcloud"
   ]
  },
  {
   "cell_type": "code",
   "execution_count": null,
   "id": "b16e7e43",
   "metadata": {},
   "outputs": [],
   "source": [
    "# pip install -U spacy"
   ]
  },
  {
   "cell_type": "code",
   "execution_count": null,
   "id": "e2145ade",
   "metadata": {},
   "outputs": [],
   "source": [
    "# pip install monkeylearn\n",
    "\n"
   ]
  },
  {
   "cell_type": "code",
   "execution_count": null,
   "id": "aa54c5cf",
   "metadata": {},
   "outputs": [],
   "source": [
    "# pip install monkeylearn\n"
   ]
  },
  {
   "cell_type": "code",
   "execution_count": null,
   "id": "9f6adeed",
   "metadata": {},
   "outputs": [],
   "source": [
    "# pip install rake-nltk"
   ]
  },
  {
   "cell_type": "code",
   "execution_count": null,
   "id": "3c0e3f6c",
   "metadata": {},
   "outputs": [],
   "source": [
    "# pip install -U textblob"
   ]
  },
  {
   "cell_type": "code",
   "execution_count": null,
   "id": "d381a631",
   "metadata": {},
   "outputs": [],
   "source": [
    "# !pip install mitosheet"
   ]
  },
  {
   "cell_type": "code",
   "execution_count": null,
   "id": "c6cb7e19",
   "metadata": {},
   "outputs": [],
   "source": [
    "!pip install markupsafe==2.0.1 Jinja2"
   ]
  },
  {
   "cell_type": "code",
   "execution_count": null,
   "id": "645ba8cc",
   "metadata": {},
   "outputs": [],
   "source": [
    "!pip install pycaret"
   ]
  },
  {
   "cell_type": "code",
   "execution_count": null,
   "id": "acbe497d",
   "metadata": {},
   "outputs": [],
   "source": []
  }
 ],
 "metadata": {
  "kernelspec": {
   "display_name": "Python 3 (ipykernel)",
   "language": "python",
   "name": "python3"
  },
  "language_info": {
   "codemirror_mode": {
    "name": "ipython",
    "version": 3
   },
   "file_extension": ".py",
   "mimetype": "text/x-python",
   "name": "python",
   "nbconvert_exporter": "python",
   "pygments_lexer": "ipython3",
   "version": "3.9.12"
  }
 },
 "nbformat": 4,
 "nbformat_minor": 5
}
